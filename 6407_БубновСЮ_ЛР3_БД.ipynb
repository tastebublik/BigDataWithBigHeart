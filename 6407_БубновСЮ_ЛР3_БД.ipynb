{
 "cells": [
  {
   "cell_type": "code",
   "execution_count": 1,
   "metadata": {
    "colab": {
     "base_uri": "https://localhost:8080/"
    },
    "id": "FaaTbHqKp9Gt",
    "outputId": "c456ac3a-11fa-45a0-d352-9280ae5587f5"
   },
   "outputs": [
    {
     "name": "stdout",
     "output_type": "stream",
     "text": [
      "Collecting pyspark==3.0.0\n",
      "  Downloading pyspark-3.0.0.tar.gz (204.7 MB)\n",
      "\u001b[2K     \u001b[90m━━━━━━━━━━━━━━━━━━━━━━━━━━━━━━━━━━━━━━━━\u001b[0m \u001b[32m204.7/204.7 MB\u001b[0m \u001b[31m3.9 MB/s\u001b[0m eta \u001b[36m0:00:00\u001b[0m\n",
      "\u001b[?25h  Preparing metadata (setup.py) ... \u001b[?25l\u001b[?25hdone\n",
      "Collecting py4j==0.10.9 (from pyspark==3.0.0)\n",
      "  Downloading py4j-0.10.9-py2.py3-none-any.whl (198 kB)\n",
      "\u001b[2K     \u001b[90m━━━━━━━━━━━━━━━━━━━━━━━━━━━━━━━━━━━━━━━━\u001b[0m \u001b[32m198.6/198.6 kB\u001b[0m \u001b[31m15.5 MB/s\u001b[0m eta \u001b[36m0:00:00\u001b[0m\n",
      "\u001b[?25hBuilding wheels for collected packages: pyspark\n",
      "  Building wheel for pyspark (setup.py) ... \u001b[?25l\u001b[?25hdone\n",
      "  Created wheel for pyspark: filename=pyspark-3.0.0-py2.py3-none-any.whl size=205044159 sha256=52d52b521a4a06f83c5e341421ef2ef52af613865faf065dd0312c2e51a56dfb\n",
      "  Stored in directory: /root/.cache/pip/wheels/b1/bb/8b/ca24d3f756f2ed967225b0871898869db676eb5846df5adc56\n",
      "Successfully built pyspark\n",
      "Installing collected packages: py4j, pyspark\n",
      "  Attempting uninstall: py4j\n",
      "    Found existing installation: py4j 0.10.9.7\n",
      "    Uninstalling py4j-0.10.9.7:\n",
      "      Successfully uninstalled py4j-0.10.9.7\n",
      "Successfully installed py4j-0.10.9 pyspark-3.0.0\n"
     ]
    }
   ],
   "source": [
    "!pip3 install pyspark==3.0.0"
   ]
  },
  {
   "cell_type": "code",
   "execution_count": 2,
   "metadata": {
    "id": "qHu1qiu3qZzk"
   },
   "outputs": [],
   "source": [
    "import os\n",
    "from pyspark import SparkContext, SparkConf\n",
    "from pyspark.sql import SparkSession\n",
    "from pyspark.sql.functions import col\n",
    "import pyspark.sql as sql\n",
    "import xml.etree.ElementTree as ET\n",
    "from pyspark.sql.functions import explode\n",
    "from pyspark.sql import Window\n",
    "from pyspark.sql.functions import row_number\n",
    "\n",
    "os.environ['PYSPARK_SUBMIT_ARGS'] = '--packages com.databricks:spark-xml_2.12:0.14.0 pyspark-shell'"
   ]
  },
  {
   "cell_type": "code",
   "execution_count": 3,
   "metadata": {
    "colab": {
     "base_uri": "https://localhost:8080/",
     "height": 196
    },
    "id": "t0qJgDDJqbbN",
    "outputId": "7224f7f9-591c-41f7-b76e-7534fe35d525"
   },
   "outputs": [
    {
     "data": {
      "text/html": [
       "\n",
       "        <div>\n",
       "            <p><b>SparkContext</b></p>\n",
       "\n",
       "            <p><a href=\"http://875486d7196c:4040\">Spark UI</a></p>\n",
       "\n",
       "            <dl>\n",
       "              <dt>Version</dt>\n",
       "                <dd><code>v3.0.0</code></dd>\n",
       "              <dt>Master</dt>\n",
       "                <dd><code>local[*]</code></dd>\n",
       "              <dt>AppName</dt>\n",
       "                <dd><code>pyspark-shell</code></dd>\n",
       "            </dl>\n",
       "        </div>\n",
       "        "
      ],
      "text/plain": [
       "<SparkContext master=local[*] appName=pyspark-shell>"
      ]
     },
     "execution_count": 3,
     "metadata": {},
     "output_type": "execute_result"
    }
   ],
   "source": [
    "try:\n",
    "    sc = SparkContext.getOrCreate()\n",
    "    sc.setLogLevel(\"ERROR\")\n",
    "except:\n",
    "    conf = SparkConf().setAppName(\"Lab2\").setMaster('local[1]')\n",
    "    sc = SparkContext(conf=conf)\n",
    "    sc.setLogLevel(\"ERROR\")\n",
    "spark = SparkSession(sc)\n",
    "\n",
    "sc"
   ]
  },
  {
   "cell_type": "code",
   "execution_count": 4,
   "metadata": {
    "colab": {
     "base_uri": "https://localhost:8080/"
    },
    "id": "LqNLr0vYqj4c",
    "outputId": "404994b7-42e9-48b3-c268-96f12a4c8877"
   },
   "outputs": [
    {
     "data": {
      "text/plain": [
       "DataFrame[name: string, wikipedia_url: string]"
      ]
     },
     "execution_count": 4,
     "metadata": {},
     "output_type": "execute_result"
    }
   ],
   "source": [
    "import requests\n",
    "\n",
    "with open(\"posts_sample.xml\", \"wb\") as f:\n",
    "    request = requests.get(\"https://git.ai.ssau.ru/tk/big_data/raw/branch/bachelor/data/posts_sample.xml\")\n",
    "    f.write(request.content)\n",
    "\n",
    "with open(\"programming-languages.csv\", \"wb\") as f:\n",
    "    request = requests.get(\"https://git.ai.ssau.ru/tk/big_data/raw/branch/bachelor/data/programming-languages.csv\")\n",
    "    f.write(request.content)\n",
    "\n",
    "postsSample = spark.read.format('xml')\\\n",
    ".option('rootTag', 'posts')\\\n",
    ".option('rowTag', 'row')\\\n",
    ".load(\"posts_sample.xml\")\n",
    "\n",
    "languages = spark.read\\\n",
    ".option(\"header\", True)\\\n",
    ".option(\"inferSchema\", True)\\\n",
    ".csv(\"programming-languages.csv\")\n",
    "\n",
    "languages"
   ]
  },
  {
   "cell_type": "code",
   "execution_count": 5,
   "metadata": {
    "colab": {
     "base_uri": "https://localhost:8080/"
    },
    "id": "KMKURTE2qwAf",
    "outputId": "93594296-3763-44eb-d8c2-e7dd06fc2502"
   },
   "outputs": [
    {
     "name": "stdout",
     "output_type": "stream",
     "text": [
      "+----+-----+--------------------+\n",
      "|year|views|           languages|\n",
      "+----+-----+--------------------+\n",
      "|2010| 3650|[c++, character-e...|\n",
      "|2010|  617|[sharepoint, info...|\n",
      "|2010| 1315|[iphone, app-stor...|\n",
      "|2010|  973|[symfony1, schema...|\n",
      "|2010|  132|              [java]|\n",
      "|2010|  419|[visual-studio-20...|\n",
      "|2010|  869|[cakephp, file-up...|\n",
      "|2010| 1303|[git, cygwin, putty]|\n",
      "|2010|  748|  [drupal, drupal-6]|\n",
      "|2010| 1258|[php, wordpress, ...|\n",
      "|2010|14972|[c#, winforms, da...|\n",
      "|2010|  274|[c#, asp.net, exc...|\n",
      "|2010|  804|    [sql, xml, blob]|\n",
      "|2010| 6019|[.htaccess, codei...|\n",
      "|2010| 5456|[wcf, web-service...|\n",
      "|2010|  316|[mod-rewrite, apa...|\n",
      "|2010|15477|[sql, database, d...|\n",
      "|2010| 9649|         [ruby, rvm]|\n",
      "|2010|20199|  [android, eclipse]|\n",
      "|2010|  735|[iphone, uiimagev...|\n",
      "+----+-----+--------------------+\n",
      "only showing top 20 rows\n",
      "\n"
     ]
    }
   ],
   "source": [
    "# отбираем в выборку нужные нам столбцы\n",
    "postsSample_DF = postsSample.select(\"_CreationDate\", \"_ViewCount\", \"_Tags\")\n",
    "\n",
    "# фильтруем и обрабатываем выборку\n",
    "parsedPosts_sample = (\n",
    "    postsSample_DF\n",
    "    .filter(col(\"_Tags\").isNotNull())\n",
    "    .rdd\n",
    "    .map(lambda x: (str(x[\"_CreationDate\"]).split('-')[0], x[\"_ViewCount\"], x[\"_Tags\"][1:-1].split('><')))\n",
    "    .toDF([\"year\", \"views\", \"languages\"])\n",
    ")\n",
    "\n",
    "# Извлекаем данные в нужном нам временном диапазоне\n",
    "parsedPosts_sample = parsedPosts_sample.filter((col(\"year\") >= 2010) & (col(\"year\") <= 2020))\n",
    "\n",
    "# Вывод результатов\n",
    "parsedPosts_sample.show()"
   ]
  },
  {
   "cell_type": "code",
   "execution_count": 6,
   "metadata": {
    "id": "cOSP_Tsvq0v1"
   },
   "outputs": [],
   "source": [
    "# Выбираем все имена языков из столбца \"name\" в DataFrame wiki_languages и приводим их к нижнему регистру\n",
    "names = languages.select(\"name\").rdd.map(lambda x: x[0].lower()).collect()\n",
    "\n",
    "# Преобразуем столбец \"languages\" из списка в строки\n",
    "parsedPosts_sample = parsedPosts_sample.select(\"year\", \"views\", explode(\"languages\").alias(\"language\"))\n",
    "\n",
    "# Фильтруем DataFrame parsedPosts_sample и оставляем там только те записи, где язык содержится в списке names\n",
    "parsedPosts_sample = parsedPosts_sample.filter(col(\"language\").isin(names))"
   ]
  },
  {
   "cell_type": "code",
   "execution_count": 7,
   "metadata": {
    "id": "uKJP-dH4q24_"
   },
   "outputs": [],
   "source": [
    "# Группируем DataFrame parsedPosts_sample по столбцам \"year\" и \"language\" с агрегацией суммы просмотров\n",
    "parsedPosts_sample = parsedPosts_sample.groupBy(\"year\", \"language\").agg({\"views\": \"sum\"})"
   ]
  },
  {
   "cell_type": "code",
   "execution_count": 10,
   "metadata": {
    "colab": {
     "base_uri": "https://localhost:8080/"
    },
    "id": "AJKBDy_yq5gg",
    "outputId": "a1685c22-84ef-4294-edf6-02dbc758f04e"
   },
   "outputs": [
    {
     "name": "stdout",
     "output_type": "stream",
     "text": [
      "+----+-----------+-------+----------+\n",
      "|year|   language|  views|row_number|\n",
      "+----+-----------+-------+----------+\n",
      "|2010|        php|1189629|         1|\n",
      "|2010|       java| 563211|         2|\n",
      "|2010| javascript| 316131|         3|\n",
      "|2010|objective-c|  97009|         4|\n",
      "|2010|       ruby|  76215|         5|\n",
      "|2010|          c|  66587|         6|\n",
      "|2010|     python|  60672|         7|\n",
      "|2010|     matlab|  51865|         8|\n",
      "|2010|applescript|  32305|         9|\n",
      "|2010|     delphi|  13065|        10|\n",
      "|2011| javascript| 809078|         1|\n",
      "|2011|       java| 389834|         2|\n",
      "|2011|        php| 246770|         3|\n",
      "|2011|          c| 238277|         4|\n",
      "|2011|objective-c| 218934|         5|\n",
      "|2011|     python| 203180|         6|\n",
      "|2011|       bash|  60805|         7|\n",
      "|2011|       ruby|  39223|         8|\n",
      "|2011|       perl|  28502|         9|\n",
      "|2011|     matlab|  18816|        10|\n",
      "+----+-----------+-------+----------+\n",
      "only showing top 20 rows\n",
      "\n"
     ]
    }
   ],
   "source": [
    "window = Window.partitionBy(parsedPosts_sample['year']).orderBy(parsedPosts_sample['sum(views)'].desc())\n",
    "postsSample_10 = parsedPosts_sample.select('*', row_number().over(window).alias('row_number')).filter(col('row_number') <= 10).withColumnRenamed(\"sum(views)\", \"views\")\n",
    "postsSample_10 = postsSample_10.orderBy(col(\"year\").asc(), col(\"sum(views)\").desc())\n",
    "postsSample_10.show()"
   ]
  },
  {
   "cell_type": "code",
   "execution_count": 11,
   "metadata": {
    "id": "5QVqfyy4q7a7"
   },
   "outputs": [],
   "source": [
    "# Запись результата в формате Parquet\n",
    "postsSample_10.write.mode('overwrite').parquet(\"top_10_languages_between_2010_and_2020.parquet\")"
   ]
  },
  {
   "cell_type": "code",
   "execution_count": 12,
   "metadata": {
    "id": "vO63VFt1q8Kj"
   },
   "outputs": [],
   "source": [
    "# Обязательно завершаем spark-сессию, чтобы не занимать ресурсы кластера\n",
    "sc.stop()"
   ]
  }
 ],
 "metadata": {
  "colab": {
   "provenance": []
  },
  "kernelspec": {
   "display_name": "Python 3 (ipykernel)",
   "language": "python",
   "name": "python3"
  },
  "language_info": {
   "codemirror_mode": {
    "name": "ipython",
    "version": 3
   },
   "file_extension": ".py",
   "mimetype": "text/x-python",
   "name": "python",
   "nbconvert_exporter": "python",
   "pygments_lexer": "ipython3",
   "version": "3.9.2"
  }
 },
 "nbformat": 4,
 "nbformat_minor": 1
}
