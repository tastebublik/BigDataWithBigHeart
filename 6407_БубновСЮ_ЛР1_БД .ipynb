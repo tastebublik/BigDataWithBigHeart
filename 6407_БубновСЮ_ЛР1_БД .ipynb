{
 "cells": [
  {
   "cell_type": "code",
   "execution_count": 1,
   "metadata": {
    "id": "JQ2cvXLjICmI"
   },
   "outputs": [],
   "source": [
    "from typing import NamedTuple # requires python 3.6+\n",
    "from typing import Iterator\n",
    "from typing import Tuple"
   ]
  },
  {
   "cell_type": "code",
   "execution_count": 2,
   "metadata": {
    "id": "yjPHumVwEyEg"
   },
   "outputs": [],
   "source": [
    "def MAP(_, row:NamedTuple):\n",
    "  if (row.gender == 'female'):\n",
    "    yield (row.age, row)\n",
    "\n",
    "def REDUCE(age:str, rows:Iterator[NamedTuple]):\n",
    "  sum = 0\n",
    "  count = 0\n",
    "  for row in rows:\n",
    "    sum += row.social_contacts\n",
    "    count += 1\n",
    "  if (count > 0):\n",
    "    yield (age, sum/count)\n",
    "  else:\n",
    "    yield (age, 0)"
   ]
  },
  {
   "cell_type": "markdown",
   "metadata": {
    "id": "vBKMgpG_ilaZ"
   },
   "source": [
    "Модель элемента данных"
   ]
  },
  {
   "cell_type": "code",
   "execution_count": 3,
   "metadata": {
    "id": "Rv-XIjhTJPx3"
   },
   "outputs": [],
   "source": [
    "class User(NamedTuple):\n",
    "  id: int\n",
    "  age: str\n",
    "  social_contacts: int\n",
    "  gender: str"
   ]
  },
  {
   "cell_type": "code",
   "execution_count": 4,
   "metadata": {
    "id": "5KV0Ze2vQgu5"
   },
   "outputs": [],
   "source": [
    "input_collection = [\n",
    "    User(id=0, age=55, gender='male', social_contacts=20),\n",
    "    User(id=1, age=25, gender='female', social_contacts=240),\n",
    "    User(id=2, age=25, gender='female', social_contacts=500),\n",
    "    User(id=3, age=33, gender='female', social_contacts=800)\n",
    "]"
   ]
  },
  {
   "cell_type": "markdown",
   "metadata": {
    "id": "YFeqzyZxZIFZ"
   },
   "source": [
    "Функция RECORDREADER моделирует чтение элементов с диска или по сети."
   ]
  },
  {
   "cell_type": "code",
   "execution_count": 5,
   "metadata": {
    "id": "S5HR4E_GQoMJ"
   },
   "outputs": [],
   "source": [
    "def RECORDREADER():\n",
    "  return [(u.id, u) for u in input_collection]"
   ]
  },
  {
   "cell_type": "code",
   "execution_count": 6,
   "metadata": {
    "colab": {
     "base_uri": "https://localhost:8080/"
    },
    "id": "NeEoWla-ROUy",
    "outputId": "166c8148-c1fe-46f0-faf3-5693aab30ab1"
   },
   "outputs": [
    {
     "data": {
      "text/plain": [
       "[(0, User(id=0, age=55, social_contacts=20, gender='male')),\n",
       " (1, User(id=1, age=25, social_contacts=240, gender='female')),\n",
       " (2, User(id=2, age=25, social_contacts=500, gender='female')),\n",
       " (3, User(id=3, age=33, social_contacts=800, gender='female'))]"
      ]
     },
     "execution_count": 6,
     "metadata": {},
     "output_type": "execute_result"
    }
   ],
   "source": [
    "list(RECORDREADER())"
   ]
  },
  {
   "cell_type": "code",
   "execution_count": 7,
   "metadata": {
    "id": "YB8orgPSZs8M"
   },
   "outputs": [],
   "source": [
    "def flatten(nested_iterable):\n",
    "  for iterable in nested_iterable:\n",
    "    for element in iterable:\n",
    "      yield element"
   ]
  },
  {
   "cell_type": "code",
   "execution_count": 8,
   "metadata": {
    "colab": {
     "base_uri": "https://localhost:8080/"
    },
    "id": "74oyvDLaRmd5",
    "outputId": "734ed47e-799a-41c4-9886-ccb306ffe5a5"
   },
   "outputs": [
    {
     "data": {
      "text/plain": [
       "[(25, User(id=1, age=25, social_contacts=240, gender='female')),\n",
       " (25, User(id=2, age=25, social_contacts=500, gender='female')),\n",
       " (33, User(id=3, age=33, social_contacts=800, gender='female'))]"
      ]
     },
     "execution_count": 8,
     "metadata": {},
     "output_type": "execute_result"
    }
   ],
   "source": [
    "map_output = flatten(map(lambda x: MAP(*x), RECORDREADER()))\n",
    "map_output = list(map_output) # materialize\n",
    "map_output"
   ]
  },
  {
   "cell_type": "code",
   "execution_count": 9,
   "metadata": {
    "id": "8ncYDJ3-VzDn"
   },
   "outputs": [],
   "source": [
    "def groupbykey(iterable):\n",
    "  t = {}\n",
    "  for (k2, v2) in iterable:\n",
    "    t[k2] = t.get(k2, []) + [v2]\n",
    "  return t.items()"
   ]
  },
  {
   "cell_type": "code",
   "execution_count": 10,
   "metadata": {
    "colab": {
     "base_uri": "https://localhost:8080/"
    },
    "id": "cKzY_6COWOA2",
    "outputId": "a2157838-cd06-4b90-ff93-e015aef89b96"
   },
   "outputs": [
    {
     "data": {
      "text/plain": [
       "[(25,\n",
       "  [User(id=1, age=25, social_contacts=240, gender='female'),\n",
       "   User(id=2, age=25, social_contacts=500, gender='female')]),\n",
       " (33, [User(id=3, age=33, social_contacts=800, gender='female')])]"
      ]
     },
     "execution_count": 10,
     "metadata": {},
     "output_type": "execute_result"
    }
   ],
   "source": [
    "shuffle_output = groupbykey(map_output)\n",
    "shuffle_output = list(shuffle_output)\n",
    "shuffle_output"
   ]
  },
  {
   "cell_type": "code",
   "execution_count": 11,
   "metadata": {
    "colab": {
     "base_uri": "https://localhost:8080/"
    },
    "id": "NlA7lkDDYL0t",
    "outputId": "528031a7-a6d6-42f4-bcdb-0e3b9ea24f56"
   },
   "outputs": [
    {
     "data": {
      "text/plain": [
       "[(25, 370.0), (33, 800.0)]"
      ]
     },
     "execution_count": 11,
     "metadata": {},
     "output_type": "execute_result"
    }
   ],
   "source": [
    "reduce_output = flatten(map(lambda x: REDUCE(*x), shuffle_output))\n",
    "reduce_output = list(reduce_output)\n",
    "reduce_output"
   ]
  },
  {
   "cell_type": "markdown",
   "metadata": {
    "id": "xf6qhHEtd6bI"
   },
   "source": [
    "Все действия одним конвейером!"
   ]
  },
  {
   "cell_type": "code",
   "execution_count": 12,
   "metadata": {
    "colab": {
     "base_uri": "https://localhost:8080/"
    },
    "id": "dZaQGYxCdpw5",
    "outputId": "09a7370c-463e-442c-f36f-7d7187912d5d"
   },
   "outputs": [
    {
     "data": {
      "text/plain": [
       "[(25, 370.0), (33, 800.0)]"
      ]
     },
     "execution_count": 12,
     "metadata": {},
     "output_type": "execute_result"
    }
   ],
   "source": [
    "list(flatten(map(lambda x: REDUCE(*x), groupbykey(flatten(map(lambda x: MAP(*x), RECORDREADER()))))))"
   ]
  },
  {
   "cell_type": "markdown",
   "metadata": {
    "id": "Vq3EWRIpwSiJ"
   },
   "source": [
    "# **MapReduce**\n",
    "Выделим общую для всех пользователей часть системы в отдельную функцию высшего порядка. Это наиболее простая модель MapReduce, без учёта распределённого хранения данных.\n",
    "\n",
    "Пользователь для решения своей задачи реализует RECORDREADER, MAP, REDUCE."
   ]
  },
  {
   "cell_type": "code",
   "execution_count": 13,
   "metadata": {
    "id": "V1PZeQMwwVjc"
   },
   "outputs": [],
   "source": [
    "def flatten(nested_iterable):\n",
    "  for iterable in nested_iterable:\n",
    "    for element in iterable:\n",
    "      yield element\n",
    "\n",
    "def groupbykey(iterable):\n",
    "  t = {}\n",
    "  for (k2, v2) in iterable:\n",
    "    t[k2] = t.get(k2, []) + [v2]\n",
    "  return t.items()\n",
    "\n",
    "def MapReduce(RECORDREADER, MAP, REDUCE):\n",
    "  return flatten(map(lambda x: REDUCE(*x), groupbykey(flatten(map(lambda x: MAP(*x), RECORDREADER())))))"
   ]
  },
  {
   "cell_type": "markdown",
   "metadata": {
    "id": "iFIVrimep678"
   },
   "source": [
    "## Спецификация MapReduce\n",
    "\n",
    "\n",
    "\n",
    "```\n",
    "f (k1, v1) -> (k2,v2)*\n",
    "g (k2, v2*) -> (k3,v3)*\n",
    "\n",
    "mapreduce ((k1,v1)*) -> (k3,v3)*\n",
    "groupby ((k2,v2)*) -> (k2,v2*)*\n",
    "flatten (e2**) -> e2*\n",
    "\n",
    "mapreduce .map(f).flatten.groupby(k2).map(g).flatten\n",
    "```\n",
    "\n",
    "\n"
   ]
  },
  {
   "cell_type": "markdown",
   "metadata": {
    "id": "QtTFyqke3KGe"
   },
   "source": [
    "# Примеры"
   ]
  },
  {
   "cell_type": "markdown",
   "metadata": {
    "id": "BNhh5763w5Vn"
   },
   "source": [
    "## SQL"
   ]
  },
  {
   "cell_type": "code",
   "execution_count": 14,
   "metadata": {
    "colab": {
     "base_uri": "https://localhost:8080/"
    },
    "id": "QkyurnvGxBGk",
    "outputId": "b2be56a7-832f-4676-8cb2-4bf6204f985b"
   },
   "outputs": [
    {
     "data": {
      "text/plain": [
       "[(25, 370.0), (33, 800.0)]"
      ]
     },
     "execution_count": 14,
     "metadata": {},
     "output_type": "execute_result"
    }
   ],
   "source": [
    "from typing import NamedTuple # requires python 3.6+\n",
    "from typing import Iterator\n",
    "\n",
    "class User(NamedTuple):\n",
    "  id: int\n",
    "  age: str\n",
    "  social_contacts: int\n",
    "  gender: str\n",
    "\n",
    "input_collection = [\n",
    "    User(id=0, age=55, gender='male', social_contacts=20),\n",
    "    User(id=1, age=25, gender='female', social_contacts=240),\n",
    "    User(id=2, age=25, gender='female', social_contacts=500),\n",
    "    User(id=3, age=33, gender='female', social_contacts=800)\n",
    "]\n",
    "\n",
    "def MAP(_, row:NamedTuple):\n",
    "  if (row.gender == 'female'):\n",
    "    yield (row.age, row)\n",
    "\n",
    "def REDUCE(age:str, rows:Iterator[NamedTuple]):\n",
    "  sum = 0\n",
    "  count = 0\n",
    "  for row in rows:\n",
    "    sum += row.social_contacts\n",
    "    count += 1\n",
    "  if (count > 0):\n",
    "    yield (age, sum/count)\n",
    "  else:\n",
    "    yield (age, 0)\n",
    "\n",
    "def RECORDREADER():\n",
    "  return [(u.id, u) for u in input_collection]\n",
    "\n",
    "output = MapReduce(RECORDREADER, MAP, REDUCE)\n",
    "output = list(output)\n",
    "output"
   ]
  },
  {
   "cell_type": "markdown",
   "metadata": {
    "id": "kNKYIeerx0nY"
   },
   "source": [
    "## Matrix-Vector multiplication"
   ]
  },
  {
   "cell_type": "code",
   "execution_count": 15,
   "metadata": {
    "colab": {
     "base_uri": "https://localhost:8080/"
    },
    "id": "rwcntRcCyi1V",
    "outputId": "702f6a64-6fc2-4b45-c322-235ac7d753da"
   },
   "outputs": [
    {
     "data": {
      "text/plain": [
       "[(0, 1.2345004623814224),\n",
       " (1, 1.2345004623814224),\n",
       " (2, 1.2345004623814224),\n",
       " (3, 1.2345004623814224),\n",
       " (4, 1.2345004623814224)]"
      ]
     },
     "execution_count": 15,
     "metadata": {},
     "output_type": "execute_result"
    }
   ],
   "source": [
    "from typing import Iterator\n",
    "import numpy as np\n",
    "\n",
    "mat = np.ones((5,4))\n",
    "vec = np.random.rand(4) # in-memory vector in all map tasks\n",
    "\n",
    "def MAP(coordinates:(int, int), value:int):\n",
    "  i, j = coordinates\n",
    "  yield (i, value*vec[j])\n",
    "\n",
    "def REDUCE(i:int, products:Iterator[NamedTuple]):\n",
    "  sum = 0\n",
    "  for p in products:\n",
    "    sum += p\n",
    "  yield (i, sum)\n",
    "\n",
    "def RECORDREADER():\n",
    "  for i in range(mat.shape[0]):\n",
    "    for j in range(mat.shape[1]):\n",
    "      yield ((i, j), mat[i,j])\n",
    "\n",
    "output = MapReduce(RECORDREADER, MAP, REDUCE)\n",
    "output = list(output)\n",
    "output"
   ]
  },
  {
   "cell_type": "markdown",
   "metadata": {
    "id": "ruZREYdi2o4O"
   },
   "source": [
    "## Inverted index"
   ]
  },
  {
   "cell_type": "code",
   "execution_count": 16,
   "metadata": {
    "colab": {
     "base_uri": "https://localhost:8080/"
    },
    "id": "vt9H9Alf3TYv",
    "outputId": "b194a5c3-5836-4542-f7ec-a88872d207a3"
   },
   "outputs": [
    {
     "data": {
      "text/plain": [
       "[('it', ['0', '1', '2']),\n",
       " ('what', ['0', '1']),\n",
       " ('is', ['0', '1', '2']),\n",
       " ('a', ['2']),\n",
       " ('banana', ['2'])]"
      ]
     },
     "execution_count": 16,
     "metadata": {},
     "output_type": "execute_result"
    }
   ],
   "source": [
    "from typing import Iterator\n",
    "\n",
    "d1 = \"it is what it is\"\n",
    "d2 = \"what is it\"\n",
    "d3 = \"it is a banana\"\n",
    "documents = [d1, d2, d3]\n",
    "\n",
    "def RECORDREADER():\n",
    "  for (docid, document) in enumerate(documents):\n",
    "    yield (\"{}\".format(docid), document)\n",
    "\n",
    "def MAP(docId:str, body:str):\n",
    "  for word in set(body.split(' ')):\n",
    "    yield (word, docId)\n",
    "\n",
    "def REDUCE(word:str, docIds:Iterator[str]):\n",
    "  yield (word, sorted(docIds))\n",
    "\n",
    "output = MapReduce(RECORDREADER, MAP, REDUCE)\n",
    "output = list(output)\n",
    "output"
   ]
  },
  {
   "cell_type": "markdown",
   "metadata": {
    "id": "R7az-6DA6qr2"
   },
   "source": [
    "## WordCount"
   ]
  },
  {
   "cell_type": "code",
   "execution_count": 17,
   "metadata": {
    "colab": {
     "base_uri": "https://localhost:8080/"
    },
    "id": "dN-nbtgG6uYG",
    "outputId": "57b6663c-c4e6-404f-8a4b-3d8d5e358046"
   },
   "outputs": [
    {
     "data": {
      "text/plain": [
       "[('', 3), ('it', 9), ('is', 9), ('what', 5), ('a', 1), ('banana', 1)]"
      ]
     },
     "execution_count": 17,
     "metadata": {},
     "output_type": "execute_result"
    }
   ],
   "source": [
    "from typing import Iterator\n",
    "\n",
    "d1 = \"\"\"\n",
    "it is what it is\n",
    "it is what it is\n",
    "it is what it is\"\"\"\n",
    "d2 = \"\"\"\n",
    "what is it\n",
    "what is it\"\"\"\n",
    "d3 = \"\"\"\n",
    "it is a banana\"\"\"\n",
    "documents = [d1, d2, d3]\n",
    "\n",
    "def RECORDREADER():\n",
    "  for (docid, document) in enumerate(documents):\n",
    "    for (lineid, line) in enumerate(document.split('\\n')):\n",
    "      yield (\"{}:{}\".format(docid,lineid), line)\n",
    "\n",
    "def MAP(docId:str, line:str):\n",
    "  for word in line.split(\" \"):\n",
    "    yield (word, 1)\n",
    "\n",
    "def REDUCE(word:str, counts:Iterator[int]):\n",
    "  sum = 0\n",
    "  for c in counts:\n",
    "    sum += c\n",
    "  yield (word, sum)\n",
    "\n",
    "output = MapReduce(RECORDREADER, MAP, REDUCE)\n",
    "output = list(output)\n",
    "output"
   ]
  },
  {
   "cell_type": "markdown",
   "metadata": {
    "id": "h-jRAcYCAkkk"
   },
   "source": [
    "# MapReduce Distributed\n",
    "\n",
    "Добавляется в модель фабрика RECORDREARER-ов --- INPUTFORMAT, функция распределения промежуточных результатов по партициям PARTITIONER, и функция COMBINER для частичной аггрегации промежуточных результатов до распределения по новым партициям."
   ]
  },
  {
   "cell_type": "code",
   "execution_count": 18,
   "metadata": {
    "id": "nw-b-xJsApgW"
   },
   "outputs": [],
   "source": [
    "def flatten(nested_iterable):\n",
    "  for iterable in nested_iterable:\n",
    "    for element in iterable:\n",
    "      yield element\n",
    "\n",
    "def groupbykey(iterable):\n",
    "  t = {}\n",
    "  for (k2, v2) in iterable:\n",
    "    t[k2] = t.get(k2, []) + [v2]\n",
    "  return t.items()\n",
    "\n",
    "def groupbykey_distributed(map_partitions, PARTITIONER):\n",
    "  global reducers\n",
    "  partitions = [dict() for _ in range(reducers)]\n",
    "  for map_partition in map_partitions:\n",
    "    for (k2, v2) in map_partition:\n",
    "      p = partitions[PARTITIONER(k2)]\n",
    "      p[k2] = p.get(k2, []) + [v2]\n",
    "  return [(partition_id, sorted(partition.items(), key=lambda x: x[0])) for (partition_id, partition) in enumerate(partitions)]\n",
    "\n",
    "def PARTITIONER(obj):\n",
    "  global reducers\n",
    "  return hash(obj) % reducers\n",
    "\n",
    "def MapReduceDistributed(INPUTFORMAT, MAP, REDUCE, PARTITIONER=PARTITIONER, COMBINER=None):\n",
    "  map_partitions = map(lambda record_reader: flatten(map(lambda k1v1: MAP(*k1v1), record_reader)), INPUTFORMAT())\n",
    "  if COMBINER != None:\n",
    "    map_partitions = map(lambda map_partition: flatten(map(lambda k2v2: COMBINER(*k2v2), groupbykey(map_partition))), map_partitions)\n",
    "  reduce_partitions = groupbykey_distributed(map_partitions, PARTITIONER) # shuffle\n",
    "  reduce_outputs = map(lambda reduce_partition: (reduce_partition[0], flatten(map(lambda reduce_input_group: REDUCE(*reduce_input_group), reduce_partition[1]))), reduce_partitions)\n",
    "\n",
    "  print(\"{} key-value pairs were sent over a network.\".format(sum([len(vs) for (k,vs) in flatten([partition for (partition_id, partition) in reduce_partitions])])))\n",
    "  return reduce_outputs"
   ]
  },
  {
   "cell_type": "markdown",
   "metadata": {
    "id": "kxirlf3XqZxY"
   },
   "source": [
    "## Спецификация MapReduce Distributed\n",
    "\n",
    "\n",
    "```\n",
    "f (k1, v1) -> (k2,v2)*\n",
    "g (k2, v2*) -> (k3,v3)*\n",
    "\n",
    "e1 (k1, v1)\n",
    "e2 (k2, v2)\n",
    "partition1 (k2, v2)*\n",
    "partition2 (k2, v2*)*\n",
    "\n",
    "flatmap (e1->e2*, e1*) -> partition1*\n",
    "groupby (partition1*) -> partition2*\n",
    "\n",
    "mapreduce ((k1,v1)*) -> (k3,v3)*\n",
    "mapreduce .flatmap(f).groupby(k2).flatmap(g)\n",
    "```\n",
    "\n"
   ]
  },
  {
   "cell_type": "markdown",
   "metadata": {
    "id": "CWYw_CpbbY3C"
   },
   "source": [
    "## WordCount"
   ]
  },
  {
   "cell_type": "code",
   "execution_count": 19,
   "metadata": {
    "colab": {
     "base_uri": "https://localhost:8080/"
    },
    "id": "uR_zfGFkMZlp",
    "outputId": "88af032d-8f34-4a33-fc50-614aa2c0fe7c"
   },
   "outputs": [
    {
     "name": "stdout",
     "output_type": "stream",
     "text": [
      "56 key-value pairs were sent over a network.\n"
     ]
    },
    {
     "data": {
      "text/plain": [
       "[(0, [('', 6), ('a', 2)]),\n",
       " (1, [('banana', 2), ('is', 18), ('it', 18), ('what', 10)])]"
      ]
     },
     "execution_count": 19,
     "metadata": {},
     "output_type": "execute_result"
    }
   ],
   "source": [
    "from typing import Iterator\n",
    "import numpy as np\n",
    "\n",
    "d1 = \"\"\"\n",
    "it is what it is\n",
    "it is what it is\n",
    "it is what it is\"\"\"\n",
    "d2 = \"\"\"\n",
    "what is it\n",
    "what is it\"\"\"\n",
    "d3 = \"\"\"\n",
    "it is a banana\"\"\"\n",
    "documents = [d1, d2, d3, d1, d2, d3]\n",
    "\n",
    "maps = 3\n",
    "reducers = 2\n",
    "\n",
    "def INPUTFORMAT():\n",
    "  global maps\n",
    "\n",
    "  def RECORDREADER(split):\n",
    "    for (docid, document) in enumerate(split):\n",
    "      for (lineid, line) in enumerate(document.split('\\n')):\n",
    "        yield (\"{}:{}\".format(docid,lineid), line)\n",
    "\n",
    "  split_size =  int(np.ceil(len(documents)/maps))\n",
    "  for i in range(0, len(documents), split_size):\n",
    "    yield RECORDREADER(documents[i:i+split_size])\n",
    "\n",
    "def MAP(docId:str, line:str):\n",
    "  for word in line.split(\" \"):\n",
    "    yield (word, 1)\n",
    "\n",
    "def REDUCE(word:str, counts:Iterator[int]):\n",
    "  sum = 0\n",
    "  for c in counts:\n",
    "    sum += c\n",
    "  yield (word, sum)\n",
    "\n",
    "# try to set COMBINER=REDUCER and look at the number of values sent over the network\n",
    "partitioned_output = MapReduceDistributed(INPUTFORMAT, MAP, REDUCE, COMBINER=None)\n",
    "partitioned_output = [(partition_id, list(partition)) for (partition_id, partition) in partitioned_output]\n",
    "partitioned_output"
   ]
  },
  {
   "cell_type": "markdown",
   "metadata": {
    "id": "gCJGx8IQ87xS"
   },
   "source": [
    "## TeraSort"
   ]
  },
  {
   "cell_type": "code",
   "execution_count": 20,
   "metadata": {
    "colab": {
     "base_uri": "https://localhost:8080/"
    },
    "id": "P2v8v1v_8_YR",
    "outputId": "11308c19-07a0-45b9-b854-d621edf7f121"
   },
   "outputs": [
    {
     "name": "stdout",
     "output_type": "stream",
     "text": [
      "30 key-value pairs were sent over a network.\n"
     ]
    },
    {
     "data": {
      "text/plain": [
       "[(0,\n",
       "  [(None, 0.00676365056435857),\n",
       "   (None, 0.021814134634300486),\n",
       "   (None, 0.02887889796581644),\n",
       "   (None, 0.03855685648628149),\n",
       "   (None, 0.1364177873723944),\n",
       "   (None, 0.13738879638573598),\n",
       "   (None, 0.1479555360260022),\n",
       "   (None, 0.16300649253891386),\n",
       "   (None, 0.19320727257013748),\n",
       "   (None, 0.2566132408878864),\n",
       "   (None, 0.25754588631300135),\n",
       "   (None, 0.3691094034450849),\n",
       "   (None, 0.4075539832036619),\n",
       "   (None, 0.41302868032640916),\n",
       "   (None, 0.45863821987805986)]),\n",
       " (1,\n",
       "  [(None, 0.5433124431725835),\n",
       "   (None, 0.5485855248192285),\n",
       "   (None, 0.6265852753853317),\n",
       "   (None, 0.6345851186876477),\n",
       "   (None, 0.6871106153311067),\n",
       "   (None, 0.6876684205603839),\n",
       "   (None, 0.7229886980640974),\n",
       "   (None, 0.7357842478797666),\n",
       "   (None, 0.7623887697736509),\n",
       "   (None, 0.8149143867085582),\n",
       "   (None, 0.831561636950547),\n",
       "   (None, 0.8803483448473065),\n",
       "   (None, 0.969450672552217),\n",
       "   (None, 0.9848270709051048),\n",
       "   (None, 0.9919542355771548)])]"
      ]
     },
     "execution_count": 20,
     "metadata": {},
     "output_type": "execute_result"
    }
   ],
   "source": [
    "import numpy as np\n",
    "\n",
    "input_values = np.random.rand(30)\n",
    "maps = 3\n",
    "reducers = 2\n",
    "min_value = 0.0\n",
    "max_value = 1.0\n",
    "\n",
    "def INPUTFORMAT():\n",
    "  global maps\n",
    "\n",
    "  def RECORDREADER(split):\n",
    "    for value in split:\n",
    "        yield (value, None)\n",
    "\n",
    "  split_size =  int(np.ceil(len(input_values)/maps))\n",
    "  for i in range(0, len(input_values), split_size):\n",
    "    yield RECORDREADER(input_values[i:i+split_size])\n",
    "\n",
    "def MAP(value:int, _):\n",
    "  yield (value, None)\n",
    "\n",
    "def PARTITIONER(key):\n",
    "  global reducers\n",
    "  global max_value\n",
    "  global min_value\n",
    "  bucket_size = (max_value-min_value)/reducers\n",
    "  bucket_id = 0\n",
    "  while((key>(bucket_id+1)*bucket_size) and ((bucket_id+1)*bucket_size<max_value)):\n",
    "    bucket_id += 1\n",
    "  return bucket_id\n",
    "\n",
    "def REDUCE(value:int, _):\n",
    "  yield (None,value)\n",
    "\n",
    "partitioned_output = MapReduceDistributed(INPUTFORMAT, MAP, REDUCE, COMBINER=None, PARTITIONER=PARTITIONER)\n",
    "partitioned_output = [(partition_id, list(partition)) for (partition_id, partition) in partitioned_output]\n",
    "partitioned_output"
   ]
  },
  {
   "cell_type": "markdown",
   "metadata": {
    "id": "Iy65YJTH99iT"
   },
   "source": [
    "# Упражнения\n",
    "Упражнения взяты из Rajaraman A., Ullman J. D. Mining of massive datasets. – Cambridge University Press, 2011.\n",
    "\n",
    "\n",
    "Для выполнения заданий переопределите функции RECORDREADER, MAP, REDUCE. Для модели распределённой системы может потребоваться переопределение функций PARTITION и COMBINER."
   ]
  },
  {
   "cell_type": "markdown",
   "metadata": {
    "id": "cfvAeZm3S8S8"
   },
   "source": [
    "### Максимальное значение ряда\n",
    "\n",
    "Разработайте MapReduce алгоритм, который находит максимальное число входного списка чисел."
   ]
  },
  {
   "cell_type": "code",
   "execution_count": 21,
   "metadata": {
    "id": "WwCOXfKDoc0q"
   },
   "outputs": [],
   "source": [
    "def flatten(nested_iterable):\n",
    "  for iterable in nested_iterable:\n",
    "    for element in iterable:\n",
    "      yield element\n",
    "\n",
    "def groupbykey(iterable):\n",
    "  t = {}\n",
    "  for (k2, v2) in iterable:\n",
    "    t[k2] = t.get(k2, []) + [v2]\n",
    "  return t.items()\n",
    "\n",
    "def MapReduce(RECORDREADER, MAP, REDUCE):\n",
    "  return flatten(map(lambda x: REDUCE(*x), groupbykey(flatten(map(lambda x: MAP(*x), RECORDREADER())))))"
   ]
  },
  {
   "cell_type": "code",
   "execution_count": 22,
   "metadata": {
    "colab": {
     "base_uri": "https://localhost:8080/"
    },
    "id": "89HBbhb8FNQp",
    "outputId": "e6ad4423-66b2-469b-b5ab-9bd9ba55727f"
   },
   "outputs": [
    {
     "name": "stdout",
     "output_type": "stream",
     "text": [
      "Максимальное число во входном списке: [999]\n"
     ]
    }
   ],
   "source": [
    "import random\n",
    "\n",
    "def MAP(id: int, number: int) -> Iterator[Tuple[int, int]]:\n",
    "    yield (1, number)\n",
    "\n",
    "def REDUCE(id: int, numbers: Iterator[int]) -> Iterator[Tuple[int, int]]:\n",
    "    yield max(numbers)\n",
    "\n",
    "def RECORDREADER()-> Iterator[Tuple[int, int]]:\n",
    "    return [(index, number) for (index, number) in enumerate(np.random.randint(1000, size=10000))]\n",
    "\n",
    "# Теперь вызываем функцию MapReduce и выводим результат\n",
    "result = MapReduce(RECORDREADER, MAP, REDUCE)\n",
    "print(\"Максимальное число во входном списке:\", list(result))"
   ]
  },
  {
   "cell_type": "markdown",
   "metadata": {
    "id": "k86bXnqZTk-U"
   },
   "source": [
    "### Арифметическое среднее\n",
    "\n",
    "Разработайте MapReduce алгоритм, который находит арифметическое среднее.\n",
    "\n",
    "$$\\overline{X} = \\frac{1}{n}\\sum_{i=0}^{n} x_i$$\n"
   ]
  },
  {
   "cell_type": "code",
   "execution_count": 23,
   "metadata": {
    "colab": {
     "base_uri": "https://localhost:8080/"
    },
    "id": "MPoY5pkfUNZf",
    "outputId": "d47a28ea-bccf-4a9f-f317-043962f0b526"
   },
   "outputs": [
    {
     "data": {
      "text/plain": [
       "[501.4225]"
      ]
     },
     "execution_count": 23,
     "metadata": {},
     "output_type": "execute_result"
    }
   ],
   "source": [
    "def MAP(key: int, number: int) -> Iterator[Tuple[int, int]]:\n",
    "    yield (1, number)\n",
    "\n",
    "def REDUCE(key: int, row: Iterator[int]) -> Iterator[Tuple[int,int]]:\n",
    "    yield sum(row) / len(row)\n",
    "\n",
    "def RECORDREADER() -> Iterator[Tuple[int,int]]:\n",
    "    return [(index, number) for (index, number) in enumerate(np.random.randint(1000, size=10000))]\n",
    "\n",
    "output = MapReduce(RECORDREADER, MAP, REDUCE)\n",
    "list(output)"
   ]
  },
  {
   "cell_type": "markdown",
   "metadata": {
    "id": "xanzszhsIlLe"
   },
   "source": [
    "### GroupByKey на основе сортировки\n",
    "\n",
    "Реализуйте groupByKey на основе сортировки, проверьте его работу на примерах"
   ]
  },
  {
   "cell_type": "code",
   "execution_count": 24,
   "metadata": {
    "colab": {
     "base_uri": "https://localhost:8080/"
    },
    "id": "hQPn3USsIkEC",
    "outputId": "31ad2590-6839-47af-9b69-761ef14119a4"
   },
   "outputs": [
    {
     "name": "stdout",
     "output_type": "stream",
     "text": [
      "dict_items([(1, [34, 63, 95, 251, 481, 532, 602, 685, 699, 797, 843, 851, 912, 920, 987])])\n"
     ]
    }
   ],
   "source": [
    "def MAP(key: int, number: int) -> Iterator[Tuple[int, int]]:\n",
    "    yield (1, number)\n",
    "\n",
    "def RECORDREADER() -> Iterator[Tuple[int,int]]:\n",
    "    return [(index, number) for (index, number) in enumerate(np.random.randint(1000, size=15))]\n",
    "\n",
    "def groupbykey_sorted(iterable):\n",
    "  t = {}\n",
    "  for (k2, v2) in iterable:\n",
    "    t[k2] = sorted(t.get(k2, []) + [v2])\n",
    "\n",
    "  return t.items()\n",
    "\n",
    "print(groupbykey_sorted(flatten(map(lambda x: MAP(*x), RECORDREADER()))))"
   ]
  },
  {
   "cell_type": "markdown",
   "metadata": {
    "id": "5SgEjCZyGnu6"
   },
   "source": [
    "### Drop duplicates (set construction, unique elements, distinct)\n",
    "\n",
    "Реализуйте распределённую операцию исключения дубликатов"
   ]
  },
  {
   "cell_type": "code",
   "execution_count": 25,
   "metadata": {
    "colab": {
     "base_uri": "https://localhost:8080/"
    },
    "id": "okjbyApjGhMt",
    "outputId": "d7710d0f-c89b-4592-8e9e-5e6710025d75"
   },
   "outputs": [
    {
     "data": {
      "text/plain": [
       "[0, 1, 2, 3, 4, 5, 6, 7, 8, 9]"
      ]
     },
     "execution_count": 25,
     "metadata": {},
     "output_type": "execute_result"
    }
   ],
   "source": [
    "def MAP(key: int, number: int) -> Iterator[Tuple[int, int]]:\n",
    "    yield (number, number)\n",
    "\n",
    "def REDUCE(key: int, rows: Iterator[int]) -> Iterator[Tuple[int, int]]:\n",
    "    yield key\n",
    "\n",
    "def RECORDREADER() -> Iterator[Tuple[int,int]]:\n",
    "    return [(index, value) for (index, value) in enumerate(np.random.randint(10, size=10000))]\n",
    "\n",
    "\n",
    "output = MapReduce(RECORDREADER, MAP, REDUCE)\n",
    "list(sorted(output))"
   ]
  },
  {
   "cell_type": "markdown",
   "metadata": {
    "id": "e7sRGoTXuJze"
   },
   "source": [
    "#Операторы реляционной алгебры\n",
    "### Selection (Выборка)\n",
    "\n",
    "**The Map Function**: Для  каждого кортежа $t \\in R$ вычисляется истинность предиката $C$. В случае истины создаётся пара ключ-значение $(t, t)$. В паре ключ и значение одинаковы, равны $t$.\n",
    "\n",
    "**The Reduce Function:** Роль функции Reduce выполняет функция идентичности, которая возвращает то же значение, что получила на вход.\n",
    "\n"
   ]
  },
  {
   "cell_type": "code",
   "execution_count": 26,
   "metadata": {
    "id": "4nKIKe59uIfc"
   },
   "outputs": [],
   "source": [
    "def MAP(key, value):\n",
    "    if value.social_contacts > 240:\n",
    "      yield (value, value)\n",
    "\n",
    "def REDUCE(*args):\n",
    "    yield args\n",
    "\n",
    "def RECORDREADER():\n",
    "    return [(u.id, u) for u in input_collection]"
   ]
  },
  {
   "cell_type": "code",
   "execution_count": 27,
   "metadata": {
    "colab": {
     "base_uri": "https://localhost:8080/"
    },
    "id": "hB5PCsOcc6Q7",
    "outputId": "56cd3588-29d5-44e2-8d08-659e6090c8bb"
   },
   "outputs": [
    {
     "data": {
      "text/plain": [
       "[User(id=2, age=25, social_contacts=500, gender='female'),\n",
       " User(id=3, age=33, social_contacts=800, gender='female')]"
      ]
     },
     "execution_count": 27,
     "metadata": {},
     "output_type": "execute_result"
    }
   ],
   "source": [
    "input_collection = [\n",
    "    User(id=0, age=55, gender='male', social_contacts=20),\n",
    "    User(id=1, age=25, gender='female', social_contacts=240),\n",
    "    User(id=2, age=25, gender='female', social_contacts=500),\n",
    "    User(id=3, age=33, gender='female', social_contacts=800)\n",
    "]\n",
    "\n",
    "output = MapReduce(RECORDREADER, MAP, REDUCE)\n",
    "list(map(lambda x: x[0], list(sorted(output))))"
   ]
  },
  {
   "cell_type": "markdown",
   "metadata": {
    "id": "w27Ca-_Ku85V"
   },
   "source": [
    "### Projection (Проекция)\n",
    "\n",
    "Проекция на множество атрибутов $S$.\n",
    "\n",
    "**The Map Function:** Для каждого кортежа $t \\in R$ создайте кортеж $t′$, исключая  из $t$ те значения, атрибуты которых не принадлежат  $S$. Верните пару $(t′, t′)$.\n",
    "\n",
    "**The Reduce Function:** Для каждого ключа $t′$, созданного любой Map задачей, вы получаете одну или несколько пар $(t′, t′)$. Reduce функция преобразует $(t′, [t′, t′, . . . , t′])$ в $(t′, t′)$, так, что для ключа $t′$ возвращается одна пара  $(t′, t′)$."
   ]
  },
  {
   "cell_type": "code",
   "execution_count": 28,
   "metadata": {
    "id": "BEvuY4GqvhS6"
   },
   "outputs": [],
   "source": [
    "def RECORDREADER():\n",
    "    return [(id, value) for (id, value) in enumerate(input_collection)]\n",
    "\n",
    "def MAP(id: int, value: User):\n",
    "    yield (value.age, value.age)\n",
    "\n",
    "def REDUCE(id: int, values: Iterator[User]):\n",
    "    yield (id, id)"
   ]
  },
  {
   "cell_type": "code",
   "execution_count": 29,
   "metadata": {
    "colab": {
     "base_uri": "https://localhost:8080/"
    },
    "id": "SAg7VVkYe6it",
    "outputId": "95e50c16-a4e5-47b5-8633-fc46a0a46de5"
   },
   "outputs": [
    {
     "data": {
      "text/plain": [
       "[(55, 55), (25, 25), (33, 33)]"
      ]
     },
     "execution_count": 29,
     "metadata": {},
     "output_type": "execute_result"
    }
   ],
   "source": [
    "input_collection = [\n",
    "    User(id=0, age=55, gender='male', social_contacts=20),\n",
    "    User(id=1, age=25, gender='female', social_contacts=240),\n",
    "    User(id=2, age=25, gender='female', social_contacts=500),\n",
    "    User(id=3, age=33, gender='female', social_contacts=800)\n",
    "]\n",
    "list(MapReduce(RECORDREADER, MAP, REDUCE))"
   ]
  },
  {
   "cell_type": "markdown",
   "metadata": {
    "id": "7gau6lKXvn2R"
   },
   "source": [
    "### Union (Объединение)\n",
    "\n",
    "**The Map Function:** Превратите каждый входной кортеж $t$ в пару ключ-значение $(t, t)$.\n",
    "\n",
    "**The Reduce Function:** С каждым ключом $t$ будет ассоциировано одно или два значений. В обоих случаях создайте $(t, t)$ в качестве выходного значения."
   ]
  },
  {
   "cell_type": "code",
   "execution_count": 30,
   "metadata": {
    "id": "rOhxkeR4f-KA"
   },
   "outputs": [],
   "source": [
    "input_collection1 = [\n",
    "    User(id=0, age=55, gender='male', social_contacts=20),\n",
    "    User(id=1, age=25, gender='female', social_contacts=240),\n",
    "    User(id=2, age=25, gender='female', social_contacts=500),\n",
    "    User(id=3, age=33, gender='female', social_contacts=800)\n",
    "]\n",
    "input_collection2 = [\n",
    "    User(id=4, age=22, gender='male', social_contacts=22),\n",
    "    User(id=1, age=25, gender='female', social_contacts=240),\n",
    "    User(id=2, age=25, gender='female', social_contacts=500),\n",
    "    User(id=5, age=18, gender='female', social_contacts=100)\n",
    "]"
   ]
  },
  {
   "cell_type": "code",
   "execution_count": 31,
   "metadata": {
    "colab": {
     "base_uri": "https://localhost:8080/"
    },
    "id": "Sns7a5agv3nw",
    "outputId": "0ad2fc2d-9b07-4759-d506-4086937f9002"
   },
   "outputs": [
    {
     "data": {
      "text/plain": [
       "[(User(id=0, age=55, social_contacts=20, gender='male'),\n",
       "  User(id=0, age=55, social_contacts=20, gender='male')),\n",
       " (User(id=1, age=25, social_contacts=240, gender='female'),\n",
       "  User(id=1, age=25, social_contacts=240, gender='female')),\n",
       " (User(id=2, age=25, social_contacts=500, gender='female'),\n",
       "  User(id=2, age=25, social_contacts=500, gender='female')),\n",
       " (User(id=3, age=33, social_contacts=800, gender='female'),\n",
       "  User(id=3, age=33, social_contacts=800, gender='female')),\n",
       " (User(id=4, age=22, social_contacts=22, gender='male'),\n",
       "  User(id=4, age=22, social_contacts=22, gender='male')),\n",
       " (User(id=5, age=18, social_contacts=100, gender='female'),\n",
       "  User(id=5, age=18, social_contacts=100, gender='female'))]"
      ]
     },
     "execution_count": 31,
     "metadata": {},
     "output_type": "execute_result"
    }
   ],
   "source": [
    "def MAP(key, value):\n",
    "  yield (value, value)\n",
    "\n",
    "def REDUCE(key, rows):\n",
    "  yield (key, key)\n",
    "\n",
    "def RECORDREADER():\n",
    "  return [(u.id, u) for u in input_collection1 + input_collection2]\n",
    "\n",
    "output = MapReduce(RECORDREADER, MAP, REDUCE)\n",
    "list(sorted(output))"
   ]
  },
  {
   "cell_type": "markdown",
   "metadata": {
    "id": "dQ8TuEbjv4J8"
   },
   "source": [
    "### Intersection (Пересечение)\n",
    "\n",
    "**The Map Function:** Превратите каждый кортеж $t$ в пары ключ-значение $(t, t)$.\n",
    "\n",
    "**The Reduce Function:** Если для ключа $t$ есть список из двух элементов $[t, t]$ $-$ создайте пару $(t, t)$. Иначе, ничего не создавайте."
   ]
  },
  {
   "cell_type": "code",
   "execution_count": 32,
   "metadata": {
    "colab": {
     "base_uri": "https://localhost:8080/"
    },
    "id": "XKlBZh4IwERR",
    "outputId": "a6700350-37a2-48a9-f610-f9847bd40923"
   },
   "outputs": [
    {
     "data": {
      "text/plain": [
       "[(User(id=1, age=25, social_contacts=240, gender='female'),\n",
       "  User(id=1, age=25, social_contacts=240, gender='female')),\n",
       " (User(id=2, age=25, social_contacts=500, gender='female'),\n",
       "  User(id=2, age=25, social_contacts=500, gender='female'))]"
      ]
     },
     "execution_count": 32,
     "metadata": {},
     "output_type": "execute_result"
    }
   ],
   "source": [
    "def MAP(key, value):\n",
    "  yield (value, value)\n",
    "\n",
    "def REDUCE(key, rows):\n",
    "  if len(rows) > 1:\n",
    "    yield (key, key)\n",
    "\n",
    "def RECORDREADER():\n",
    "  return [(u.id, u) for u in input_collection1 + input_collection2]\n",
    "\n",
    "output = MapReduce(RECORDREADER, MAP, REDUCE)\n",
    "list(sorted(output))"
   ]
  },
  {
   "cell_type": "markdown",
   "metadata": {
    "id": "AVOpqoY3wE5k"
   },
   "source": [
    "### Difference (Разница)\n",
    "\n",
    "**The Map Function:** Для кортежа $t \\in R$, создайте пару $(t, R)$, и для кортежа $t \\in S$, создайте пару $(t, S)$. Задумка заключается в том, чтобы значение пары было именем отношения $R$ or $S$, которому принадлежит кортеж (а лучше, единичный бит, по которому можно два отношения различить $R$ or $S$), а не весь набор атрибутов отношения.\n",
    "\n",
    "**The Reduce Function:** Для каждого ключа $t$, если соответствующее значение является списком $[R]$, создайте пару $(t, t)$. В иных случаях не предпринимайте действий."
   ]
  },
  {
   "cell_type": "code",
   "execution_count": 33,
   "metadata": {
    "colab": {
     "base_uri": "https://localhost:8080/"
    },
    "id": "QE_AC09lwZIZ",
    "outputId": "b31f6cd5-c547-4033-b067-ef99082ffdfe"
   },
   "outputs": [
    {
     "data": {
      "text/plain": [
       "[(User(id=0, age=55, social_contacts=20, gender='male'),\n",
       "  User(id=0, age=55, social_contacts=20, gender='male')),\n",
       " (User(id=3, age=33, social_contacts=800, gender='female'),\n",
       "  User(id=3, age=33, social_contacts=800, gender='female')),\n",
       " (User(id=4, age=22, social_contacts=22, gender='male'),\n",
       "  User(id=4, age=22, social_contacts=22, gender='male')),\n",
       " (User(id=5, age=18, social_contacts=100, gender='female'),\n",
       "  User(id=5, age=18, social_contacts=100, gender='female'))]"
      ]
     },
     "execution_count": 33,
     "metadata": {},
     "output_type": "execute_result"
    }
   ],
   "source": [
    "def RECORDREADER():\n",
    "    return [(user.id, user) for user in input_collection1 + input_collection2]\n",
    "\n",
    "def MAP(id: int, value: User):\n",
    "    yield (value, value)\n",
    "\n",
    "def REDUCE(id: int, values: Iterator[User]):\n",
    "    if len(values) == 1:\n",
    "      yield (id, id)\n",
    "\n",
    "output = MapReduce(RECORDREADER, MAP, REDUCE)\n",
    "list(sorted(output))"
   ]
  },
  {
   "cell_type": "markdown",
   "metadata": {
    "id": "j8I58V2VwhSm"
   },
   "source": [
    "### Natural Join\n",
    "\n",
    "**The Map Function:** Для каждого кортежа $(a, b)$ отношения $R$, создайте пару $(b,(R, a))$. Для каждого кортежа $(b, c)$ отношения $S$, создайте пару $(b,(S, c))$.\n",
    "\n",
    "**The Reduce Function:** Каждый ключ $b$ будет асоциирован со списком пар, которые принимают форму либо $(R, a)$, либо $(S, c)$. Создайте все пары, одни, состоящие из  первого компонента $R$, а другие, из первого компонента $S$, то есть $(R, a)$ и $(S, c)$. На выходе вы получаете последовательность пар ключ-значение из списков ключей и значений. Ключ не нужен. Каждое значение, это тройка $(a, b, c)$ такая, что $(R, a)$ и $(S, c)$ это принадлежат входному списку значений."
   ]
  },
  {
   "cell_type": "code",
   "execution_count": 34,
   "metadata": {
    "colab": {
     "base_uri": "https://localhost:8080/"
    },
    "id": "yHiuuTctw86I",
    "outputId": "82b13436-6774-4ec5-eb55-2f73c2d07b85"
   },
   "outputs": [
    {
     "data": {
      "text/plain": [
       "[('Finance',\n",
       "  EmployeeDepartment(id=5, name='Кеша', department_name='Finance', manager_name='Алексис')),\n",
       " ('HR',\n",
       "  EmployeeDepartment(id=4, name='Каша', department_name='HR', manager_name='Александр')),\n",
       " ('IT',\n",
       "  EmployeeDepartment(id=1, name='Маша', department_name='IT', manager_name='Андрей')),\n",
       " ('IT',\n",
       "  EmployeeDepartment(id=2, name='Паша', department_name='IT', manager_name='Андрей')),\n",
       " ('Marketing',\n",
       "  EmployeeDepartment(id=6, name='Ваша', department_name='Marketing', manager_name='Александрия')),\n",
       " ('Sales',\n",
       "  EmployeeDepartment(id=3, name='Даша', department_name='Sales', manager_name='Алексей'))]"
      ]
     },
     "execution_count": 34,
     "metadata": {},
     "output_type": "execute_result"
    }
   ],
   "source": [
    "class Department(NamedTuple):\n",
    "  department_name: str\n",
    "  manager_name: str\n",
    "\n",
    "class PartialDepartment(NamedTuple):\n",
    "  manager_name: str\n",
    "\n",
    "class Employee(NamedTuple):\n",
    "  id: int\n",
    "  name: str\n",
    "  department_name: str\n",
    "\n",
    "class PartialEmployee(NamedTuple):\n",
    "  id: int\n",
    "  name: str\n",
    "\n",
    "class EmployeeDepartment(NamedTuple):\n",
    "  id: int\n",
    "  name: str\n",
    "  department_name: str\n",
    "  manager_name: str\n",
    "\n",
    "department_collection = [\n",
    "    Department(department_name=\"IT\", manager_name=\"Андрей\"),\n",
    "    Department(department_name=\"Sales\", manager_name=\"Алексей\"),\n",
    "    Department(department_name=\"HR\", manager_name=\"Александр\"),\n",
    "    Department(department_name=\"Finance\", manager_name=\"Алексис\"),\n",
    "    Department(department_name=\"Marketing\", manager_name=\"Александрия\")\n",
    "]\n",
    "\n",
    "employee_collection = [\n",
    "   Employee(id=1, name=\"Маша\", department_name=\"IT\"),\n",
    "   Employee(id=2, name=\"Паша\", department_name=\"IT\"),\n",
    "   Employee(id=3, name=\"Даша\", department_name=\"Sales\"),\n",
    "   Employee(id=4, name=\"Каша\", department_name=\"HR\"),\n",
    "   Employee(id=5, name=\"Кеша\", department_name=\"Finance\"),\n",
    "   Employee(id=6, name=\"Ваша\", department_name=\"Marketing\"),\n",
    "]\n",
    "\n",
    "def MAP(key, value):\n",
    "  if value in employee_collection:\n",
    "    yield (value.department_name, (0, PartialEmployee(id=value.id, name=value.name)))\n",
    "  elif value in department_collection:\n",
    "    yield (value.department_name, (1, PartialDepartment(manager_name=value.manager_name)))\n",
    "\n",
    "def REDUCE(key, rows):\n",
    "  for i in range(len(rows)):\n",
    "    for j in range(len(rows)):\n",
    "      if (rows[i][0] == 1 and rows[j][0] == 0):\n",
    "        yield (key, EmployeeDepartment(id=rows[j][1].id, name=rows[j][1].name, department_name=key, manager_name=rows[i][1].manager_name))\n",
    "\n",
    "def RECORDREADER():\n",
    "  return [(index, u) for index, u in enumerate(department_collection + employee_collection)]\n",
    "\n",
    "output = MapReduce(RECORDREADER, MAP, REDUCE)\n",
    "list(sorted(output))"
   ]
  },
  {
   "cell_type": "markdown",
   "metadata": {
    "id": "kYdlr0YUxE27"
   },
   "source": [
    "### Grouping and Aggregation (Группировка и аггрегация)\n",
    "\n",
    "**The Map Function:** Для каждого кортежа $(a, b, c$) создайте пару $(a, b)$.\n",
    "\n",
    "**The Reduce Function:** Ключ представляет ту или иную группу. Примение аггрегирующую операцию $\\theta$ к списку значений $[b1, b2, . . . , bn]$ ассоциированных с ключом $a$. Возвращайте в выходной поток $(a, x)$, где $x$ результат применения  $\\theta$ к списку. Например, если $\\theta$ это $SUM$, тогда $x = b1 + b2 + · · · + bn$, а если $\\theta$ is $MAX$, тогда $x$ это максимальное из значений $b1, b2, . . . , bn$."
   ]
  },
  {
   "cell_type": "code",
   "execution_count": 35,
   "metadata": {
    "colab": {
     "base_uri": "https://localhost:8080/"
    },
    "id": "MLPckfEGxico",
    "outputId": "934a773a-5d38-432d-e0ca-c171df346593"
   },
   "outputs": [
    {
     "data": {
      "text/plain": [
       "[('male', 20.0), ('female', 513.3333333333334)]"
      ]
     },
     "execution_count": 35,
     "metadata": {},
     "output_type": "execute_result"
    }
   ],
   "source": [
    "def RECORDREADER():\n",
    "    return [(user.id, user) for user in input_collection]\n",
    "\n",
    "def MAP(index: int, value: User):\n",
    "    yield (value.gender, value.social_contacts)\n",
    "\n",
    "def REDUCE(gender: str, values: Iterator[int]):\n",
    "    yield (gender, sum(values) / len(values))\n",
    "\n",
    "output = MapReduce(RECORDREADER, MAP, REDUCE)\n",
    "list((output))"
   ]
  },
  {
   "cell_type": "markdown",
   "metadata": {
    "id": "IIrRgvG4RIS4"
   },
   "source": [
    "### Matrix-Vector multiplication\n",
    "\n",
    "Случай, когда вектор не помещается в памяти Map задачи\n"
   ]
  },
  {
   "cell_type": "code",
   "execution_count": null,
   "metadata": {
    "id": "KQhDbiL3zS9r"
   },
   "outputs": [],
   "source": []
  },
  {
   "cell_type": "markdown",
   "metadata": {
    "id": "GIo2t7nNxvA9"
   },
   "source": [
    "## Matrix multiplication (Перемножение матриц)\n",
    "\n",
    "Если у нас есть матрица $M$ с элементами $m_{ij}$ в строке $i$ и столбце $j$, и матрица $N$ с элементами $n_{jk}$ в строке $j$ и столбце $k$, тогда их произведение $P = MN$ есть матрица $P$ с элементами $p_{ik}$ в строке $i$ и столбце $k$, где\n",
    "\n",
    "$$p_{ik} =\\sum_{j} m_{ij}n_{jk}$$\n",
    "\n",
    "Необходимым требованием является одинаковое количество столбцов в $M$ и строк в $N$, чтобы операция суммирования по  $j$ была осмысленной. Мы можем размышлять о матрице, как об отношении с тремя атрибутами: номер строки, номер столбца, само значение. Таким образом матрица $M$ предстваляется как отношение $ M(I, J, V )$, с кортежами $(i, j, m_{ij})$, и, аналогично, матрица $N$ представляется как отношение $N(J, K, W)$, с кортежами $(j, k, n_{jk})$. Так как большие матрицы как правило разреженные (большинство значений равно 0), и так как мы можем нулевыми значениями пренебречь (не хранить), такое реляционное представление достаточно эффективно для больших матриц. Однако, возможно, что координаты $i$, $j$, и $k$ неявно закодированы в смещение позиции элемента относительно начала файла, вместо явного хранения. Тогда, функция Map (или Reader) должна быть разработана таким образом, чтобы реконструировать компоненты $I$, $J$, и $K$ кортежей из смещения.\n",
    "\n",
    "Произведение $MN$ это фактически join, за которым следуют группировка по ключу и аггрегация. Таким образом join отношений $M(I, J, V )$ и $N(J, K, W)$, имеющих общим только атрибут $J$, создаст кортежи $(i, j, k, v, w)$ из каждого кортежа $(i, j, v) \\in M$ и кортежа $(j, k, w) \\in N$. Такой 5 компонентный кортеж представляет пару элементов матрицы $(m_{ij} , n_{jk})$. Что нам хотелось бы получить на самом деле, это произведение этих элементов, то есть, 4 компонентный кортеж$(i, j, k, v \\times w)$, так как он представляет произведение $m_{ij}n_{jk}$. Мы представляем отношение как результат одной MapReduce операции, в которой мы можем произвести группировку и аггрегацию, с $I$ и $K$  атрибутами, по которым идёт группировка, и суммой  $V \\times W$.\n",
    "\n",
    "\n",
    "\n"
   ]
  },
  {
   "cell_type": "code",
   "execution_count": 36,
   "metadata": {
    "id": "1MBkGaLAYVCt"
   },
   "outputs": [],
   "source": [
    "# MapReduce model\n",
    "def flatten(nested_iterable):\n",
    "  for iterable in nested_iterable:\n",
    "    for element in iterable:\n",
    "      yield element\n",
    "\n",
    "def groupbykey(iterable):\n",
    "  t = {}\n",
    "  for (k2, v2) in iterable:\n",
    "    t[k2] = t.get(k2, []) + [v2]\n",
    "  return t.items()\n",
    "\n",
    "def MapReduce(RECORDREADER, MAP, REDUCE):\n",
    "  return flatten(map(lambda x: REDUCE(*x), groupbykey(flatten(map(lambda x: MAP(*x), RECORDREADER())))))"
   ]
  },
  {
   "cell_type": "markdown",
   "metadata": {
    "id": "sMspsOT0ZB35"
   },
   "source": [
    "Реализуйте перемножение матриц с использованием модельного кода MapReduce для одной машины в случае, когда одна матрица хранится в памяти, а другая генерируется RECORDREADER-ом."
   ]
  },
  {
   "cell_type": "code",
   "execution_count": 37,
   "metadata": {
    "id": "psP1XekbsEjS"
   },
   "outputs": [],
   "source": [
    "import numpy as np\n",
    "I = 2\n",
    "J = 3\n",
    "K = 4*10\n",
    "small_mat = np.random.rand(I,J) # it is legal to access this from RECORDREADER, MAP, REDUCE\n",
    "big_mat = np.random.rand(J,K)\n",
    "\n",
    "def RECORDREADER():\n",
    "  for j in range(big_mat.shape[0]):\n",
    "    for k in range(big_mat.shape[1]):\n",
    "      yield ((j,k), big_mat[j,k])\n",
    "\n",
    "def MAP(k1, v1):\n",
    "  (j, k) = k1\n",
    "  w = v1\n",
    "  for i in range(I):\n",
    "    yield ((i, k), small_mat[i, j] * w)\n",
    "\n",
    "def REDUCE(key, values):\n",
    "  (i, k) = key\n",
    "  yield ((i, k), sum(values))"
   ]
  },
  {
   "cell_type": "markdown",
   "metadata": {
    "id": "rnt306LHhHrm"
   },
   "source": [
    "Проверьте своё решение"
   ]
  },
  {
   "cell_type": "code",
   "execution_count": 38,
   "metadata": {
    "colab": {
     "base_uri": "https://localhost:8080/"
    },
    "id": "Ewy_ZNYqW5a2",
    "outputId": "702b856d-cdf8-4bc6-adc2-b1cf2d5c9c92"
   },
   "outputs": [
    {
     "data": {
      "text/plain": [
       "True"
      ]
     },
     "execution_count": 38,
     "metadata": {},
     "output_type": "execute_result"
    }
   ],
   "source": [
    "# CHECK THE SOLUTION\n",
    "reference_solution = np.matmul(small_mat, big_mat)\n",
    "solution = MapReduce(RECORDREADER, MAP, REDUCE)\n",
    "\n",
    "def asmatrix(reduce_output):\n",
    "  reduce_output = list(reduce_output)\n",
    "  I = max(i for ((i,k), vw) in reduce_output)+1\n",
    "  K = max(k for ((i,k), vw) in reduce_output)+1\n",
    "  mat = np.empty(shape=(I,K))\n",
    "  for ((i,k), vw) in reduce_output:\n",
    "    mat[i,k] = vw\n",
    "  return mat\n",
    "\n",
    "np.allclose(reference_solution, asmatrix(solution)) # should return true"
   ]
  },
  {
   "cell_type": "code",
   "execution_count": 39,
   "metadata": {
    "colab": {
     "base_uri": "https://localhost:8080/"
    },
    "id": "TK7v4CEcfxqf",
    "outputId": "3ba99449-4b2a-45cb-937b-6b101f03008a"
   },
   "outputs": [
    {
     "data": {
      "text/plain": [
       "1"
      ]
     },
     "execution_count": 39,
     "metadata": {},
     "output_type": "execute_result"
    }
   ],
   "source": [
    "reduce_output = list(MapReduce(RECORDREADER, MAP, REDUCE))\n",
    "max(i for ((i,k), vw) in reduce_output)"
   ]
  },
  {
   "cell_type": "markdown",
   "metadata": {
    "id": "i4yyg3kOZqJJ"
   },
   "source": [
    "Реализуйте перемножение матриц  с использованием модельного кода MapReduce для одной машины в случае, когда обе матрицы генерируются в RECORDREADER. Например, сначала одна, а потом другая."
   ]
  },
  {
   "cell_type": "code",
   "execution_count": 40,
   "metadata": {
    "colab": {
     "base_uri": "https://localhost:8080/"
    },
    "id": "3B7rIAJCaHZq",
    "outputId": "be1a03c9-01b2-4e99-f951-853ab8582d05"
   },
   "outputs": [
    {
     "data": {
      "text/plain": [
       "True"
      ]
     },
     "execution_count": 40,
     "metadata": {},
     "output_type": "execute_result"
    }
   ],
   "source": [
    "I = 2\n",
    "J = 3\n",
    "K = 4 * 10\n",
    "small_mat = np.random.rand(I, J)\n",
    "big_mat = np.random.rand(J, K)\n",
    "\n",
    "def RECORDREADER():\n",
    "  for i in range(I):\n",
    "    for j in range(J):\n",
    "      yield ((0, i, j), small_mat[i, j])\n",
    "\n",
    "  for j in range(J):\n",
    "    for k in range(K):\n",
    "      yield ((1, j, k), big_mat[j, k])\n",
    "\n",
    "def MAP(k1, v1):\n",
    "  (matrix_index, row_index, col_index) = k1\n",
    "  if matrix_index == 0:\n",
    "    yield (col_index, (matrix_index, row_index, v1))\n",
    "  else:\n",
    "    yield (row_index, (matrix_index, col_index, v1))\n",
    "\n",
    "\n",
    "def REDUCE(key, values):\n",
    "  first_matrix = [el for el in values if el[0] == 0]\n",
    "  second_matrix = [el for el in values if el[0] == 1]\n",
    "\n",
    "  for first_el in first_matrix:\n",
    "    for second_el in second_matrix:\n",
    "      (_, first_index, first_value) = first_el\n",
    "      (_, second_index, second_value) = second_el\n",
    "      yield ((first_index, second_index), first_value * second_value)\n",
    "\n",
    "\n",
    "def MAP_IDENTITY(*args):\n",
    "  yield args\n",
    "\n",
    "def REDUCE_AGREGATE(key, values):\n",
    "  yield (key, sum(values))\n",
    "\n",
    "def GET_RECORDREADER(iterable):\n",
    "  def func():\n",
    "    for el in iterable:\n",
    "      yield el\n",
    "  return func\n",
    "\n",
    "\n",
    "reference_solution = np.matmul(small_mat, big_mat)\n",
    "partial_solution = MapReduce(RECORDREADER, MAP, REDUCE)\n",
    "solution = MapReduce(GET_RECORDREADER(partial_solution), MAP_IDENTITY, REDUCE_AGREGATE)\n",
    "\n",
    "def asmatrix(reduce_output):\n",
    "  reduce_output = list(reduce_output)\n",
    "  I = max(i for ((i, k), vw) in reduce_output) + 1\n",
    "  K = max(k for ((i, k), vw) in reduce_output) + 1\n",
    "  mat = np.empty(shape=(I, K))\n",
    "  for ((i, k), vw) in reduce_output:\n",
    "    mat[i, k] = vw\n",
    "  return mat\n",
    "\n",
    "np.allclose(reference_solution, asmatrix(solution))"
   ]
  },
  {
   "cell_type": "markdown",
   "metadata": {
    "id": "mXyzQi1DaIwo"
   },
   "source": [
    "Реализуйте перемножение матриц с использованием модельного кода MapReduce Distributed, когда каждая матрица генерируется в своём RECORDREADER."
   ]
  },
  {
   "cell_type": "code",
   "execution_count": 41,
   "metadata": {
    "colab": {
     "base_uri": "https://localhost:8080/"
    },
    "id": "TDM_s78Rb5eR",
    "outputId": "00109012-6efd-4465-bb82-c725d0b20aaf"
   },
   "outputs": [
    {
     "name": "stdout",
     "output_type": "stream",
     "text": [
      "126 key-value pairs were sent over a network.\n",
      "240 key-value pairs were sent over a network.\n"
     ]
    },
    {
     "data": {
      "text/plain": [
       "True"
      ]
     },
     "execution_count": 41,
     "metadata": {},
     "output_type": "execute_result"
    }
   ],
   "source": [
    "I = 2\n",
    "J = 3\n",
    "K = 4 * 10\n",
    "small_mat = np.random.rand(I, J)\n",
    "big_mat = np.random.rand(J, K)\n",
    "\n",
    "maps = 2\n",
    "reducers = 2\n",
    "\n",
    "def INPUTFORMAT():\n",
    "  def RECORDREADER(index, matrix):\n",
    "    rows, cols = matrix.shape\n",
    "    for i in range(rows):\n",
    "      for j in range(cols):\n",
    "        yield ((index, i, j), matrix[i, j])\n",
    "\n",
    "  yield RECORDREADER(0, small_mat)\n",
    "  yield RECORDREADER(1, big_mat)\n",
    "\n",
    "def MAP(k1, v1):\n",
    "  (matrix_index, row_index, col_index) = k1\n",
    "\n",
    "  if matrix_index == 0:\n",
    "    yield (col_index, (matrix_index, row_index, v1))\n",
    "  else:\n",
    "    yield (row_index, (matrix_index, col_index, v1))\n",
    "\n",
    "def REDUCE(key, values):\n",
    "  first_matrix = [el for el in values if el[0] == 0]\n",
    "  second_matrix = [el for el in values if el[0] == 1]\n",
    "\n",
    "  for first_el in first_matrix:\n",
    "    for second_el in second_matrix:\n",
    "      (_, first_index, first_value) = first_el\n",
    "      (_, second_index, second_value) = second_el\n",
    "      yield ((first_index, second_index), first_value * second_value)\n",
    "\n",
    "def MAP_IDENTITY(*args):\n",
    "  yield args\n",
    "\n",
    "def REDUCE_AGREGATE(key, values):\n",
    "  yield (key, sum(values))\n",
    "\n",
    "def GET_INPUTFORMAT(iterable):\n",
    "  def func():\n",
    "    for el in iterable:\n",
    "      yield el[1]\n",
    "  return func\n",
    "\n",
    "reference_solution = np.matmul(small_mat, big_mat)\n",
    "\n",
    "partitioned_output = MapReduceDistributed(INPUTFORMAT, MAP, REDUCE, COMBINER=None)\n",
    "partitioned_output = [(partition_id, list(partition)) for (partition_id, partition) in partitioned_output]\n",
    "\n",
    "solution = MapReduceDistributed(GET_INPUTFORMAT(partitioned_output), MAP_IDENTITY, REDUCE_AGREGATE, COMBINER=None)\n",
    "solution = [(partition_id, list(partition)) for (partition_id, partition) in solution]\n",
    "\n",
    "solution_unpacked = []\n",
    "for value in solution:\n",
    "  for v in value[1]:\n",
    "    solution_unpacked.append(v)\n",
    "\n",
    "def asmatrix(reduce_output):\n",
    "  reduce_output = list(reduce_output)\n",
    "  I = max(i for ((i, k), vw) in reduce_output) + 1\n",
    "  K = max(k for ((i, k), vw) in reduce_output) + 1\n",
    "  mat = np.empty(shape=(I, K))\n",
    "  for ((i, k), vw) in reduce_output:\n",
    "    mat[i, k] = vw\n",
    "  return mat\n",
    "\n",
    "np.allclose(reference_solution, asmatrix(solution_unpacked))"
   ]
  },
  {
   "cell_type": "markdown",
   "metadata": {
    "id": "ZuSA2P9Db6UM"
   },
   "source": [
    "Обобщите предыдущее решение на случай, когда каждая матрица генерируется несколькими RECORDREADER-ами, и проверьте его работоспособность. Будет ли работать решение, если RECORDREADER-ы будут генерировать случайное подмножество элементов матрицы?"
   ]
  },
  {
   "cell_type": "code",
   "execution_count": 42,
   "metadata": {
    "colab": {
     "base_uri": "https://localhost:8080/"
    },
    "id": "ehN0FqRDcwU5",
    "outputId": "f8d899f1-7a32-4f92-d11e-5ebc5bbd3e93"
   },
   "outputs": [
    {
     "name": "stdout",
     "output_type": "stream",
     "text": [
      "18 key-value pairs were sent over a network.\n",
      "24 key-value pairs were sent over a network.\n"
     ]
    },
    {
     "data": {
      "text/plain": [
       "True"
      ]
     },
     "execution_count": 42,
     "metadata": {},
     "output_type": "execute_result"
    }
   ],
   "source": [
    "I = 2\n",
    "J = 3\n",
    "K = 4\n",
    "small_mat = np.random.rand(I, J)\n",
    "big_mat = np.random.rand(J, K)\n",
    "\n",
    "maps = 2\n",
    "reducers = 2\n",
    "\n",
    "def INPUTFORMAT():\n",
    "  def RECORDREADER(index, matrix, shift):\n",
    "    rows, cols = matrix.shape\n",
    "    for i in range(rows):\n",
    "      for j in range(cols):\n",
    "        yield ((index, i + shift, j), matrix[i, j])\n",
    "\n",
    "  split_size = int(np.ceil(len(small_mat) / maps))\n",
    "\n",
    "  for i in range(0, len(small_mat), split_size):\n",
    "    yield RECORDREADER(0, small_mat[i:i + split_size], i)\n",
    "\n",
    "  split_size = int(np.ceil(len(big_mat) / maps))\n",
    "\n",
    "  for i in range(0, len(big_mat), split_size):\n",
    "    yield RECORDREADER(1, big_mat[i:i + split_size], i)\n",
    "\n",
    "def MAP(k1, v1):\n",
    "  (matrix_index, row_index, col_index) = k1\n",
    "\n",
    "  if matrix_index == 0:\n",
    "    yield (col_index, (matrix_index, row_index, v1))\n",
    "  else:\n",
    "    yield (row_index, (matrix_index, col_index, v1))\n",
    "\n",
    "def REDUCE(key, values):\n",
    "  first_matrix = [el for el in values if el[0] == 0]\n",
    "  second_matrix = [el for el in values if el[0] == 1]\n",
    "\n",
    "  for first_el in first_matrix:\n",
    "    for second_el in second_matrix:\n",
    "      (_, first_index, first_value) = first_el\n",
    "      (_, second_index, second_value) = second_el\n",
    "      yield ((first_index, second_index), first_value * second_value)\n",
    "\n",
    "def MAP_IDENTITY(*args):\n",
    "  yield args\n",
    "\n",
    "def REDUCE_AGREGATE(key, values):\n",
    "  yield (key, sum(values))\n",
    "\n",
    "def GET_INPUTFORMAT(iterable):\n",
    "  def func():\n",
    "    for el in iterable:\n",
    "      yield el[1]\n",
    "  return func\n",
    "\n",
    "reference_solution = np.matmul(small_mat, big_mat)\n",
    "\n",
    "partitioned_output = MapReduceDistributed(INPUTFORMAT, MAP, REDUCE, COMBINER=None)\n",
    "partitioned_output = [(partition_id, list(partition)) for (partition_id, partition) in partitioned_output]\n",
    "\n",
    "solution = MapReduceDistributed(GET_INPUTFORMAT(partitioned_output), MAP_IDENTITY, REDUCE_AGREGATE, COMBINER=None)\n",
    "solution = [(partition_id, list(partition)) for (partition_id, partition) in solution]\n",
    "\n",
    "solution_unpacked = []\n",
    "for value in solution:\n",
    "  for v in value[1]:\n",
    "    solution_unpacked.append(v)\n",
    "\n",
    "def asmatrix(reduce_output):\n",
    "  reduce_output = list(reduce_output)\n",
    "  I = max(i for ((i, k), vw) in reduce_output) + 1\n",
    "  K = max(k for ((i, k), vw) in reduce_output) + 1\n",
    "  mat = np.empty(shape=(I, K))\n",
    "  for ((i, k), vw) in reduce_output:\n",
    "    mat[i, k] = vw\n",
    "  return mat\n",
    "\n",
    "np.allclose(reference_solution, asmatrix(solution_unpacked))"
   ]
  }
 ],
 "metadata": {
  "colab": {
   "provenance": []
  },
  "kernelspec": {
   "display_name": "Python 3 (ipykernel)",
   "language": "python",
   "name": "python3"
  },
  "language_info": {
   "codemirror_mode": {
    "name": "ipython",
    "version": 3
   },
   "file_extension": ".py",
   "mimetype": "text/x-python",
   "name": "python",
   "nbconvert_exporter": "python",
   "pygments_lexer": "ipython3",
   "version": "3.9.2"
  }
 },
 "nbformat": 4,
 "nbformat_minor": 1
}
